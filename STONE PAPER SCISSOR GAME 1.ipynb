{
 "cells": [
  {
   "cell_type": "code",
   "execution_count": 2,
   "metadata": {},
   "outputs": [],
   "source": [
    "import cv2\n",
    "import numpy as np\n",
    "\n",
    "from numpy import load\n"
   ]
  },
  {
   "cell_type": "code",
   "execution_count": 2,
   "metadata": {},
   "outputs": [],
   "source": []
  },
  {
   "cell_type": "code",
   "execution_count": 3,
   "metadata": {},
   "outputs": [],
   "source": []
  },
  {
   "cell_type": "code",
   "execution_count": null,
   "metadata": {},
   "outputs": [],
   "source": []
  },
  {
   "cell_type": "code",
   "execution_count": null,
   "metadata": {},
   "outputs": [],
   "source": [
    "\n"
   ]
  },
  {
   "cell_type": "code",
   "execution_count": 40,
   "metadata": {},
   "outputs": [],
   "source": [
    "training_data_0_l=[]   #paper\n",
    "\n"
   ]
  },
  {
   "cell_type": "code",
   "execution_count": 57,
   "metadata": {},
   "outputs": [],
   "source": [
    "training_data_1_l = []  #stone\n"
   ]
  },
  {
   "cell_type": "code",
   "execution_count": 3,
   "metadata": {},
   "outputs": [],
   "source": [
    "training_data_2_l = []   #scissors"
   ]
  },
  {
   "cell_type": "code",
   "execution_count": 18,
   "metadata": {},
   "outputs": [],
   "source": [
    "training_data_0_r = []"
   ]
  },
  {
   "cell_type": "code",
   "execution_count": 22,
   "metadata": {},
   "outputs": [],
   "source": [
    "training_data_1_r =[]"
   ]
  },
  {
   "cell_type": "code",
   "execution_count": 4,
   "metadata": {},
   "outputs": [],
   "source": [
    "training_data_2_r= []"
   ]
  },
  {
   "cell_type": "code",
   "execution_count": 3,
   "metadata": {},
   "outputs": [],
   "source": [
    "#loading the data\n",
    "training_data_0_l=np.load(\"training_data_0_l.npy\")\n",
    "training_data_1_l=np.load(\"training_data_1_l.npy\")\n",
    "training_data_2_l=np.load(\"training_data_2_l.npy\")\n",
    "training_data_0_r=np.load(\"training_data_0_r.npy\")\n",
    "training_data_1_r=np.load(\"training_data_1_r.npy\")\n",
    "training_data_2_r=np.load(\"training_data_2_r.npy\")\n"
   ]
  },
  {
   "cell_type": "code",
   "execution_count": null,
   "metadata": {},
   "outputs": [],
   "source": [
    "\n",
    "\n",
    "/////////COLLECTING IMAGES\\\\\\\\\\\\\\\\\\\\\\\\\\\n",
    "\n",
    "\n"
   ]
  },
  {
   "cell_type": "code",
   "execution_count": 7,
   "metadata": {},
   "outputs": [
    {
     "name": "stdout",
     "output_type": "stream",
     "text": [
      "True\n"
     ]
    }
   ],
   "source": [
    "k=0\n",
    "cap= cv2.VideoCapture(0)\n",
    "print(cap.isOpened())\n",
    "while(cap.isOpened()):\n",
    "    _,frame = cap.read()\n",
    "    frame= cv2.flip(frame,1)\n",
    "    if(_ == False):\n",
    "        break\n",
    "    kernel= np.ones((6,6))    \n",
    "    roi= frame[100:350,357:557]   \n",
    "    #imgray= cv2.cvtColor(frame,cv2.COLOR_BGR2GRAY)\n",
    "   # r , thresh= cv2.threshold(imgray,140,255,0)\n",
    "    #cv2.rectangle(frame,(57,100),(57+200,100+250),(0,255,0),2)\n",
    "   # cv2.rectangle(frame,(57+300,100),(57+200,100+250),(0,255,0),2)\n",
    "    cv2.rectangle(frame,(57+300,100),(57+300+200,100+250),(0,255,0),2)\n",
    "    hsv= cv2.cvtColor(roi,cv2.COLOR_BGR2HSV)\n",
    "    ls= np.array([0, 58, 50])\n",
    "    us= np.array([30, 255, 255])\n",
    "    mask= cv2.inRange(hsv,ls,us)\n",
    "    mask= cv2.dilate(mask,kernel,iterations=1)\n",
    "    mask= cv2.GaussianBlur(mask,(5,5),50)\n",
    "    \n",
    "    #img_t = thresh[100:350,57:257]\n",
    "    img_t = cv2.resize(mask,(100,100))\n",
    "    #img_t= cv2.reshape(100,100)\n",
    "    cv2.imshow(\"img_t\",img_t)\n",
    "    #cv2.imshow(\"thresgh\",thresh)\n",
    "    cv2.imshow(\"image\",frame)\n",
    "    k=k+1\n",
    "   # print(k)\n",
    "    if(k%30 ==0):\n",
    "        training_data_2_r.append(img_t)\n",
    "        k=k+1\n",
    "        \n",
    "        \n",
    "   \n",
    "    \n",
    "    if(cv2.waitKey(1) & 0xFF==ord('q')):\n",
    "        break\n",
    "cap.release()\n",
    "cv2.destroyAllWindows()\n",
    "    \n",
    "    \n"
   ]
  },
  {
   "cell_type": "code",
   "execution_count": 4,
   "metadata": {},
   "outputs": [],
   "source": [
    "def calre(f,s):\n",
    "    if(f==s):\n",
    "        return \"no\"\n",
    "    if(f==0 and s==1):\n",
    "        return \"1\"\n",
    "    if(f==1 and s==0):\n",
    "        return \"2\"\n",
    "    if(f==0 and s==2):\n",
    "        return \"2\"\n",
    "    if(f==2 and s==0):\n",
    "        return \"1\"\n",
    "    if(f==1 and s==2):\n",
    "        return \"1\"\n",
    "    if(f==2 and s==1):\n",
    "        return \"2\"\n",
    "    #if()\n"
   ]
  },
  {
   "cell_type": "code",
   "execution_count": null,
   "metadata": {},
   "outputs": [],
   "source": [
    "\n",
    "\n",
    "\n",
    "///////GAME ON\\\\\\\\\n",
    "\n"
   ]
  },
  {
   "cell_type": "code",
   "execution_count": null,
   "metadata": {},
   "outputs": [
    {
     "name": "stdout",
     "output_type": "stream",
     "text": [
      "0 0\n"
     ]
    }
   ],
   "source": [
    "######creating second block\n",
    "k=0\n",
    "var=0\n",
    "player=''\n",
    "cap= cv2.VideoCapture(0)\n",
    "\n",
    "while(cap.isOpened()):\n",
    "    _,frame = cap.read()\n",
    "    frame= cv2.flip(frame,1)\n",
    "    if(_ == False):\n",
    "        break\n",
    "    #imgray= cv2.cvtColor(frame,cv2.COLOR_BGR2GRAY)\n",
    "   # r , thresh= cv2.threshold(imgray,150,255,0)\n",
    "    kernel= np.ones((6,6))    \n",
    "    roi1= frame[100:350,57:257]   \n",
    "    roi2= frame[100:350,357:557]   \n",
    "    cv2.rectangle(frame,(57,100),(57+200,100+250),(0,255,0),2)\n",
    "    cv2.rectangle(frame,(57+300,100),(57+300+200,100+250),(0,255,0),2)\n",
    "    hsv1= cv2.cvtColor(roi1,cv2.COLOR_BGR2HSV)\n",
    "    hsv2= cv2.cvtColor(roi2,cv2.COLOR_BGR2HSV)\n",
    "    ls= np.array([0,20,70])\n",
    "    us= np.array([20,255,255])\n",
    "    mask1= cv2.inRange(hsv1,ls,us)\n",
    "    mask2=cv2.inRange(hsv2,ls,us)\n",
    "    mask1= cv2.dilate(mask1,kernel,iterations=1)\n",
    "    mask2= cv2.dilate(mask2,kernel,iterations=1)\n",
    "    \n",
    "    mask1= cv2.GaussianBlur(mask1,(5,5),50)\n",
    "    mask2= cv2.GaussianBlur(mask2,(5,5),50)\n",
    "    \n",
    "    \n",
    "    #img_t = thresh[100:350,57:257]\n",
    "    #img_t2= thresh[100:350,57+300:57+300+200]\n",
    "    cv2.putText(frame,\"1st PLAYER\",(60,400),cv2.FONT_HERSHEY_SCRIPT_COMPLEX,1,(0,0,255),3)\n",
    "    cv2.putText(frame,\"2nd PLAYER\",(357,400),cv2.FONT_HERSHEY_SCRIPT_COMPLEX,1,(0,0,255),3)\n",
    "\n",
    "    img_t = cv2.resize(mask1,(100,100))\n",
    "    img_t2= cv2.resize(mask2,(100,100))\n",
    "    #img_t= cv2.reshape(100,100)\n",
    "    cv2.putText(frame,player,(150,75),cv2.FONT_HERSHEY_SCRIPT_COMPLEX,2,(124,133,55),3)\n",
    "    cv2.imshow(\"img_t\",img_t)\n",
    "    cv2.imshow(\"img_t2\",img_t2)\n",
    "    #cv2.imshow(\"thresgh\",thresh)\n",
    "    cv2.imshow(\"image\",frame)\n",
    "    k=k+1\n",
    "    #print(k)\n",
    "    #if(var==1):\n",
    "   # cv2.putText(frame,\"bhghghjg\",(10,20),cv2.FONT_HERSHEY_SCRIPT_COMPLEX,1,(0,0,255),3,cv2.LINE_4)\n",
    "        \n",
    "    if(k==300):\n",
    "        #training_data_2.append(img_t)\n",
    "        #print(img_t.shape)\n",
    "        f= np.array(img_t)\n",
    "        f = f.reshape(-1,10000)\n",
    "        s= np.array(img_t2)\n",
    "        s =s.reshape(-1,10000)\n",
    "        \n",
    "        p= knc.predict(f)\n",
    "        q= knc.predict(s)\n",
    "        print(p[0],q[0])\n",
    "        \n",
    "        player=calre(p[0],q[0])\n",
    "        if(player==\"no\"):\n",
    "            player= \"GAME TIE\"\n",
    "        else :   \n",
    "            player = str(player) \n",
    "            if(player == '1'):\n",
    "                player=player  + \"st Player Win\" \n",
    "            elif(player=='2'):\n",
    "                 player=player  + \"nd Player Win\" \n",
    "                \n",
    "        cv2.putText(frame,player,(10,20),cv2.FONT_HERSHEY_PLAIN,1,(0,0,255),3)\n",
    "        var=1\n",
    "       # print(yy.shape)\n",
    "       # print(p[0])\n",
    "        k=k+1\n",
    "        \n",
    "        \n",
    "        \n",
    "   \n",
    "    \n",
    "    if(cv2.waitKey(1) & 0xFF==ord('q')):\n",
    "        break\n",
    "cap.release()\n",
    "cv2.destroyAllWindows()\n",
    "    \n",
    "    \n"
   ]
  },
  {
   "cell_type": "code",
   "execution_count": 25,
   "metadata": {},
   "outputs": [],
   "source": [
    "cap= cv2.VideoCapture(0)\n",
    "#fgbg= cv2.createBackgroundSubtractorMOG2()\n",
    "while(True):\n",
    "    _,frame = cap.read()\n",
    "    frame= cv2.flip(frame,1)\n",
    "    kernel= np.ones((6,6))\n",
    "    roi= frame[100:300,100:300]\n",
    "    cv2.rectangle(frame,(100,100),(300,300),(0,255,0),0)\n",
    "    hsv= cv2.cvtColor(roi,cv2.COLOR_BGR2HSV)\n",
    "    ls= np.array([0,20,70])\n",
    "    us= np.array([20,255,255])\n",
    "    mask= cv2.inRange(hsv,ls,us)\n",
    "    mask= cv2.dilate(mask,kernel,iterations=1)\n",
    "    mask= cv2.GaussianBlur(mask,(5,5),50)\n",
    "   # cv2.putText(frame,\"bhghghjg\",(10,20),cv2.FONT_HERSHEY_PLAIN,1,(0,0,255),3,cv2.LINE_4)\n",
    "   # fgmask=fgbg.apply(frame)\n",
    "    cv2.imshow(\"mask\",mask)\n",
    "    cv2.imshow(\"image\",frame)\n",
    "        \n",
    "    if(cv2.waitKey(1) & 0xFF==ord('q')):\n",
    "        break\n",
    "cap.release()\n",
    "cv2.destroyAllWindows()\n",
    "    "
   ]
  },
  {
   "cell_type": "code",
   "execution_count": 5,
   "metadata": {},
   "outputs": [
    {
     "data": {
      "text/plain": [
       "<matplotlib.image.AxesImage at 0x1ed2899a408>"
      ]
     },
     "execution_count": 5,
     "metadata": {},
     "output_type": "execute_result"
    },
    {
     "data": {
      "image/png": "[encoded data removed]",
      "text/plain": [
       "<Figure size 432x288 with 1 Axes>"
      ]
     },
     "metadata": {
      "needs_background": "light"
     },
     "output_type": "display_data"
    }
   ],
   "source": [
    "import matplotlib.pyplot as plt\n",
    "arra=training_data_1_r[11]\n",
    "arra= np.array(arra)\n",
    "arra= arra.reshape(100,100)\n",
    "plt.imshow(arra)\n",
    "\n",
    "\n"
   ]
  },
  {
   "cell_type": "code",
   "execution_count": 5,
   "metadata": {},
   "outputs": [],
   "source": [
    "training_data_0_l = np.array(training_data_0_l)\n",
    "training_data_1_l = np.array(training_data_1_l)\n",
    "training_data_2_l = np.array(training_data_2_l)\n",
    "training_data_0_r = np.array(training_data_0_r)\n",
    "training_data_1_r = np.array(training_data_1_r)\n",
    "training_data_2_r = np.array(training_data_2_r)\n",
    "training_data_0_l = training_data_0_l.reshape(training_data_0_l.shape[0],-1)\n",
    "training_data_1_l = training_data_1_l.reshape(training_data_1_l.shape[0],-1)\n",
    "training_data_2_l = training_data_2_l.reshape(training_data_2_l.shape[0],-1)\n",
    "training_data_0_r = training_data_0_r.reshape(training_data_0_r.shape[0],-1)\n",
    "training_data_1_r = training_data_1_r.reshape(training_data_1_r.shape[0],-1)\n",
    "training_data_2_r = training_data_2_r.reshape(training_data_2_r.shape[0],-1)\n",
    "\n",
    "\n"
   ]
  },
  {
   "cell_type": "code",
   "execution_count": 6,
   "metadata": {},
   "outputs": [
    {
     "data": {
      "text/plain": [
       "(38, 10000)"
      ]
     },
     "execution_count": 6,
     "metadata": {},
     "output_type": "execute_result"
    }
   ],
   "source": [
    "training_data_0_l.shape\n"
   ]
  },
  {
   "cell_type": "code",
   "execution_count": 7,
   "metadata": {},
   "outputs": [],
   "source": [
    "overall_x_training = []\n",
    "overall_y_training = []\n",
    "\n",
    "for i in range(6):\n",
    "    for j in range(30):\n",
    "        if(i==0):\n",
    "            overall_x_training.append(training_data_0_l[j])\n",
    "            overall_y_training.append(i%3)\n",
    "        if(i==1):\n",
    "            overall_x_training.append(training_data_1_l[j])\n",
    "            overall_y_training.append(i%3)    \n",
    "        if(i==2):\n",
    "            overall_x_training.append(training_data_2_l[j])\n",
    "            overall_y_training.append(i%3)\n",
    "        if(i==3):\n",
    "            overall_x_training.append(training_data_0_r[j])\n",
    "            overall_y_training.append(i%3)\n",
    "        if(i==4):\n",
    "            overall_x_training.append(training_data_1_r[j])\n",
    "            overall_y_training.append(i%3)    \n",
    "        if(i==5):\n",
    "            overall_x_training.append(training_data_2_r[j])\n",
    "            overall_y_training.append(i%3)\n",
    "                \n",
    "            \n",
    "            \n",
    "            \n",
    "    "
   ]
  },
  {
   "cell_type": "code",
   "execution_count": null,
   "metadata": {},
   "outputs": [],
   "source": [
    "\n",
    "//////ALGORITHMS USED\\\\\\\\\n",
    "\n",
    ">LOGISTIC REGRESSION\n",
    ">KNN\n",
    ">SVM\n",
    "\n",
    "\n",
    "\n"
   ]
  },
  {
   "cell_type": "code",
   "execution_count": 8,
   "metadata": {},
   "outputs": [
    {
     "data": {
      "text/plain": [
       "((180, 10000), (180,))"
      ]
     },
     "execution_count": 8,
     "metadata": {},
     "output_type": "execute_result"
    }
   ],
   "source": [
    "overall_x_training= np.array(overall_x_training)\n",
    "overall_y_training= np.array(overall_y_training)\n",
    "overall_x_training.shape ,overall_y_training.shape"
   ]
  },
  {
   "cell_type": "code",
   "execution_count": 9,
   "metadata": {},
   "outputs": [],
   "source": [
    "from sklearn.linear_model import LogisticRegression\n",
    "from sklearn.model_selection import train_test_split\n",
    "x_train,x_test,y_train,y_test= train_test_split(overall_x_training,overall_y_training)\n",
    "\n"
   ]
  },
  {
   "cell_type": "code",
   "execution_count": 13,
   "metadata": {},
   "outputs": [
    {
     "data": {
      "text/plain": [
       "0.9555555555555556"
      ]
     },
     "execution_count": 13,
     "metadata": {},
     "output_type": "execute_result"
    }
   ],
   "source": [
    "lr= LogisticRegression(max_iter=1500)\n",
    "lr.fit(x_train,y_train)\n",
    "lr.score(x_test,y_test)"
   ]
  },
  {
   "cell_type": "code",
   "execution_count": null,
   "metadata": {},
   "outputs": [],
   "source": []
  },
  {
   "cell_type": "code",
   "execution_count": null,
   "metadata": {},
   "outputs": [],
   "source": []
  },
  {
   "cell_type": "code",
   "execution_count": 10,
   "metadata": {},
   "outputs": [
    {
     "data": {
      "text/plain": [
       "0.9555555555555556"
      ]
     },
     "execution_count": 10,
     "metadata": {},
     "output_type": "execute_result"
    }
   ],
   "source": [
    "from sklearn import svm\n",
    "SVM= svm.SVC(C=100)\n",
    "SVM.fit(x_train,y_train)\n",
    "SVM.score(x_test,y_test)"
   ]
  },
  {
   "cell_type": "code",
   "execution_count": 12,
   "metadata": {},
   "outputs": [
    {
     "data": {
      "text/plain": [
       "0.9555555555555556"
      ]
     },
     "execution_count": 12,
     "metadata": {},
     "output_type": "execute_result"
    }
   ],
   "source": [
    "from sklearn.neighbors import KNeighborsClassifier\n",
    "knc= KNeighborsClassifier(n_neighbors=5)\n",
    "knc.fit(x_train,y_train)\n",
    "knc.score(x_test,y_test)\n"
   ]
  },
  {
   "cell_type": "code",
   "execution_count": 24,
   "metadata": {},
   "outputs": [
    {
     "data": {
      "text/plain": [
       "0.7111111111111111"
      ]
     },
     "execution_count": 24,
     "metadata": {},
     "output_type": "execute_result"
    }
   ],
   "source": [
    "\n",
    "from sklearn  import tree\n",
    "tr= tree.DecisionTreeClassifier()\n",
    "tr.fit(x_train,y_train)\n",
    "tr.score(x_test,y_test)\n",
    "\n"
   ]
  },
  {
   "cell_type": "code",
   "execution_count": null,
   "metadata": {},
   "outputs": [],
   "source": [
    "\n",
    "\n",
    "//SAVING DATA\\\\\\\n",
    "\n"
   ]
  },
  {
   "cell_type": "code",
   "execution_count": 40,
   "metadata": {},
   "outputs": [],
   "source": [
    "\n",
    "np.save(\"training_data_0_l\",training_data_0_l )\n",
    "np.save(\"training_data_1_l\",training_data_1_l )\n",
    "np.save(\"training_data_2_l\",training_data_2_l )\n",
    "np.save(\"training_data_0_r\",training_data_0_r )\n",
    "np.save(\"training_data_1_r\",training_data_1_r )\n",
    "np.save(\"training_data_2_r\",training_data_2_r )\n",
    "\n"
   ]
  },
  {
   "cell_type": "code",
   "execution_count": null,
   "metadata": {},
   "outputs": [],
   "source": []
  },
  {
   "cell_type": "code",
   "execution_count": null,
   "metadata": {},
   "outputs": [],
   "source": []
  }
 ],
 "metadata": {
  "kernelspec": {
   "display_name": "Python 3",
   "language": "python",
   "name": "python3"
  },
  "language_info": {
   "codemirror_mode": {
    "name": "ipython",
    "version": 3
   },
   "file_extension": ".py",
   "mimetype": "text/x-python",
   "name": "python",
   "nbconvert_exporter": "python",
   "pygments_lexer": "ipython3",
   "version": "3.7.6"
  }
 },
 "nbformat": 4,
 "nbformat_minor": 4
}
